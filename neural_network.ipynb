{
 "cells": [
  {
   "cell_type": "code",
   "execution_count": 1,
   "metadata": {},
   "outputs": [
    {
     "name": "stderr",
     "output_type": "stream",
     "text": [
      "/home/david/anaconda3/lib/python3.7/site-packages/tensorboard/compat/tensorflow_stub/dtypes.py:541: FutureWarning: Passing (type, 1) or '1type' as a synonym of type is deprecated; in a future version of numpy, it will be understood as (type, (1,)) / '(1,)type'.\n",
      "  _np_qint8 = np.dtype([(\"qint8\", np.int8, 1)])\n",
      "/home/david/anaconda3/lib/python3.7/site-packages/tensorboard/compat/tensorflow_stub/dtypes.py:542: FutureWarning: Passing (type, 1) or '1type' as a synonym of type is deprecated; in a future version of numpy, it will be understood as (type, (1,)) / '(1,)type'.\n",
      "  _np_quint8 = np.dtype([(\"quint8\", np.uint8, 1)])\n",
      "/home/david/anaconda3/lib/python3.7/site-packages/tensorboard/compat/tensorflow_stub/dtypes.py:543: FutureWarning: Passing (type, 1) or '1type' as a synonym of type is deprecated; in a future version of numpy, it will be understood as (type, (1,)) / '(1,)type'.\n",
      "  _np_qint16 = np.dtype([(\"qint16\", np.int16, 1)])\n",
      "/home/david/anaconda3/lib/python3.7/site-packages/tensorboard/compat/tensorflow_stub/dtypes.py:544: FutureWarning: Passing (type, 1) or '1type' as a synonym of type is deprecated; in a future version of numpy, it will be understood as (type, (1,)) / '(1,)type'.\n",
      "  _np_quint16 = np.dtype([(\"quint16\", np.uint16, 1)])\n",
      "/home/david/anaconda3/lib/python3.7/site-packages/tensorboard/compat/tensorflow_stub/dtypes.py:545: FutureWarning: Passing (type, 1) or '1type' as a synonym of type is deprecated; in a future version of numpy, it will be understood as (type, (1,)) / '(1,)type'.\n",
      "  _np_qint32 = np.dtype([(\"qint32\", np.int32, 1)])\n",
      "/home/david/anaconda3/lib/python3.7/site-packages/tensorboard/compat/tensorflow_stub/dtypes.py:550: FutureWarning: Passing (type, 1) or '1type' as a synonym of type is deprecated; in a future version of numpy, it will be understood as (type, (1,)) / '(1,)type'.\n",
      "  np_resource = np.dtype([(\"resource\", np.ubyte, 1)])\n"
     ]
    }
   ],
   "source": [
    "from keras.models import Sequential\n",
    "from keras.layers import Dense,InputLayer\n",
    "from tensorflow.keras.optimizers import Adam\n",
    "from keras.losses import MeanSquaredError\n",
    "from keras.metrics import RootMeanSquaredError\n",
    "from keras_tuner import RandomSearch\n"
   ]
  },
  {
   "cell_type": "code",
   "execution_count": 2,
   "metadata": {},
   "outputs": [
    {
     "data": {
      "text/html": [
       "<div>\n",
       "<style scoped>\n",
       "    .dataframe tbody tr th:only-of-type {\n",
       "        vertical-align: middle;\n",
       "    }\n",
       "\n",
       "    .dataframe tbody tr th {\n",
       "        vertical-align: top;\n",
       "    }\n",
       "\n",
       "    .dataframe thead th {\n",
       "        text-align: right;\n",
       "    }\n",
       "</style>\n",
       "<table border=\"1\" class=\"dataframe\">\n",
       "  <thead>\n",
       "    <tr style=\"text-align: right;\">\n",
       "      <th></th>\n",
       "      <th>carat</th>\n",
       "      <th>cut</th>\n",
       "      <th>color</th>\n",
       "      <th>depth</th>\n",
       "      <th>table</th>\n",
       "      <th>volume</th>\n",
       "      <th>price</th>\n",
       "    </tr>\n",
       "  </thead>\n",
       "  <tbody>\n",
       "    <tr>\n",
       "      <th>0</th>\n",
       "      <td>-1.199402</td>\n",
       "      <td>-0.971068</td>\n",
       "      <td>-1.548072</td>\n",
       "      <td>-0.173495</td>\n",
       "      <td>-1.100486</td>\n",
       "      <td>-1.172273</td>\n",
       "      <td>326</td>\n",
       "    </tr>\n",
       "    <tr>\n",
       "      <th>1</th>\n",
       "      <td>-1.241651</td>\n",
       "      <td>-0.181133</td>\n",
       "      <td>-1.548072</td>\n",
       "      <td>-1.362393</td>\n",
       "      <td>1.585691</td>\n",
       "      <td>-1.219563</td>\n",
       "      <td>326</td>\n",
       "    </tr>\n",
       "    <tr>\n",
       "      <th>2</th>\n",
       "      <td>-1.199402</td>\n",
       "      <td>0.608803</td>\n",
       "      <td>-1.548072</td>\n",
       "      <td>-3.390512</td>\n",
       "      <td>3.376475</td>\n",
       "      <td>-1.173874</td>\n",
       "      <td>327</td>\n",
       "    </tr>\n",
       "    <tr>\n",
       "      <th>3</th>\n",
       "      <td>-1.072656</td>\n",
       "      <td>-0.181133</td>\n",
       "      <td>-1.060350</td>\n",
       "      <td>0.455922</td>\n",
       "      <td>0.242603</td>\n",
       "      <td>-1.063233</td>\n",
       "      <td>334</td>\n",
       "    </tr>\n",
       "    <tr>\n",
       "      <th>4</th>\n",
       "      <td>-1.030407</td>\n",
       "      <td>0.608803</td>\n",
       "      <td>-0.572629</td>\n",
       "      <td>1.085338</td>\n",
       "      <td>0.242603</td>\n",
       "      <td>-0.996797</td>\n",
       "      <td>335</td>\n",
       "    </tr>\n",
       "    <tr>\n",
       "      <th>...</th>\n",
       "      <td>...</td>\n",
       "      <td>...</td>\n",
       "      <td>...</td>\n",
       "      <td>...</td>\n",
       "      <td>...</td>\n",
       "      <td>...</td>\n",
       "      <td>...</td>\n",
       "    </tr>\n",
       "    <tr>\n",
       "      <th>53789</th>\n",
       "      <td>-0.164306</td>\n",
       "      <td>-0.971068</td>\n",
       "      <td>1.378257</td>\n",
       "      <td>-0.663041</td>\n",
       "      <td>-0.205093</td>\n",
       "      <td>-0.177929</td>\n",
       "      <td>2757</td>\n",
       "    </tr>\n",
       "    <tr>\n",
       "      <th>53790</th>\n",
       "      <td>-0.164306</td>\n",
       "      <td>0.608803</td>\n",
       "      <td>1.378257</td>\n",
       "      <td>0.945468</td>\n",
       "      <td>-1.100486</td>\n",
       "      <td>-0.149908</td>\n",
       "      <td>2757</td>\n",
       "    </tr>\n",
       "    <tr>\n",
       "      <th>53791</th>\n",
       "      <td>-0.206555</td>\n",
       "      <td>1.398738</td>\n",
       "      <td>1.378257</td>\n",
       "      <td>0.735662</td>\n",
       "      <td>1.137995</td>\n",
       "      <td>-0.196740</td>\n",
       "      <td>2757</td>\n",
       "    </tr>\n",
       "    <tr>\n",
       "      <th>53792</th>\n",
       "      <td>0.131436</td>\n",
       "      <td>-0.181133</td>\n",
       "      <td>-0.084907</td>\n",
       "      <td>-0.523171</td>\n",
       "      <td>0.242603</td>\n",
       "      <td>0.139958</td>\n",
       "      <td>2757</td>\n",
       "    </tr>\n",
       "    <tr>\n",
       "      <th>53793</th>\n",
       "      <td>-0.100933</td>\n",
       "      <td>-0.971068</td>\n",
       "      <td>1.378257</td>\n",
       "      <td>0.316051</td>\n",
       "      <td>-1.100486</td>\n",
       "      <td>-0.067279</td>\n",
       "      <td>2757</td>\n",
       "    </tr>\n",
       "  </tbody>\n",
       "</table>\n",
       "<p>53794 rows × 7 columns</p>\n",
       "</div>"
      ],
      "text/plain": [
       "          carat       cut     color     depth     table    volume  price\n",
       "0     -1.199402 -0.971068 -1.548072 -0.173495 -1.100486 -1.172273    326\n",
       "1     -1.241651 -0.181133 -1.548072 -1.362393  1.585691 -1.219563    326\n",
       "2     -1.199402  0.608803 -1.548072 -3.390512  3.376475 -1.173874    327\n",
       "3     -1.072656 -0.181133 -1.060350  0.455922  0.242603 -1.063233    334\n",
       "4     -1.030407  0.608803 -0.572629  1.085338  0.242603 -0.996797    335\n",
       "...         ...       ...       ...       ...       ...       ...    ...\n",
       "53789 -0.164306 -0.971068  1.378257 -0.663041 -0.205093 -0.177929   2757\n",
       "53790 -0.164306  0.608803  1.378257  0.945468 -1.100486 -0.149908   2757\n",
       "53791 -0.206555  1.398738  1.378257  0.735662  1.137995 -0.196740   2757\n",
       "53792  0.131436 -0.181133 -0.084907 -0.523171  0.242603  0.139958   2757\n",
       "53793 -0.100933 -0.971068  1.378257  0.316051 -1.100486 -0.067279   2757\n",
       "\n",
       "[53794 rows x 7 columns]"
      ]
     },
     "execution_count": 2,
     "metadata": {},
     "output_type": "execute_result"
    }
   ],
   "source": [
    "import pandas as pd\n",
    "from sklearn.model_selection import train_test_split\n",
    "df=pd.read_csv(\"df_new\",index_col=[0])\n",
    "df"
   ]
  },
  {
   "cell_type": "code",
   "execution_count": 3,
   "metadata": {},
   "outputs": [],
   "source": [
    "X=df.drop(\"price\",1)\n",
    "Y=df[[\"price\"]]\n",
    "X_train,X_test,y_train,y_test=train_test_split(X,Y,test_size=0.2, random_state=42)\n"
   ]
  },
  {
   "cell_type": "code",
   "execution_count": null,
   "metadata": {},
   "outputs": [],
   "source": []
  },
  {
   "cell_type": "code",
   "execution_count": 11,
   "metadata": {
    "scrolled": true
   },
   "outputs": [],
   "source": [
    "def find_model(hp):\n",
    "    model=Sequential()\n",
    "    model.add(InputLayer(6))\n",
    "    for i in range(hp.Int(\"num_layers\",2,10)):\n",
    "        model.add(Dense(units=hp.Int(\"units\" + str(i),min_value=32,max_value=512,step=32),\n",
    "                        activation=\"relu\"))\n",
    "    model.add(Dense(1,activation=\"linear\"))\n",
    "    model.compile(optimizer=Adam(hp.Choice(\"learning rate\",[1e-2,1e-2])),loss=MeanSquaredError(),\n",
    "                  metrics= MeanSquaredError())\n",
    "    return model              \n",
    "                  "
   ]
  },
  {
   "cell_type": "code",
   "execution_count": 12,
   "metadata": {},
   "outputs": [],
   "source": [
    "tuner=RandomSearch(\n",
    "    find_model,\n",
    "    objective=\"val_mean_squared_error\",\n",
    "    max_trials=5,\n",
    "    executions_per_trial=1,\n",
    "    project_name=\"neural_network\",\n",
    "    overwrite=True\n",
    "      \n",
    ")"
   ]
  },
  {
   "cell_type": "code",
   "execution_count": 13,
   "metadata": {
    "scrolled": true
   },
   "outputs": [
    {
     "name": "stdout",
     "output_type": "stream",
     "text": [
      "Trial 5 Complete [00h 00m 23s]\n",
      "val_mean_squared_error: 1481954.125\n",
      "\n",
      "Best val_mean_squared_error So Far: 1442437.5\n",
      "Total elapsed time: 00h 02m 40s\n",
      "INFO:tensorflow:Oracle triggered exit\n"
     ]
    }
   ],
   "source": [
    "tuner.search(X_train,y_train, epochs=4,validation_data=(X_test,y_test))"
   ]
  },
  {
   "cell_type": "code",
   "execution_count": 7,
   "metadata": {},
   "outputs": [],
   "source": [
    "# tuner.search_space_summary()# to get the search of the tuner\n"
   ]
  },
  {
   "cell_type": "code",
   "execution_count": 10,
   "metadata": {},
   "outputs": [
    {
     "name": "stdout",
     "output_type": "stream",
     "text": [
      "Results summary\n",
      "Results in ./neural_network\n",
      "Showing 10 best trials\n",
      "Objective(name=\"val_mean_squared_error\", direction=\"min\")\n",
      "\n",
      "Trial 3 summary\n",
      "Hyperparameters:\n",
      "num_layers: 3\n",
      "units0: 256\n",
      "units1: 480\n",
      "learning rate: 0.01\n",
      "units2: 160\n",
      "Score: 1466460.75\n",
      "\n",
      "Trial 4 summary\n",
      "Hyperparameters:\n",
      "num_layers: 6\n",
      "units0: 352\n",
      "units1: 96\n",
      "learning rate: 0.01\n",
      "units2: 224\n",
      "units3: 32\n",
      "units4: 32\n",
      "units5: 32\n",
      "Score: 1532815.25\n",
      "\n",
      "Trial 0 summary\n",
      "Hyperparameters:\n",
      "num_layers: 3\n",
      "units0: 224\n",
      "units1: 256\n",
      "learning rate: 0.01\n",
      "units2: 32\n",
      "Score: 1550328.125\n",
      "\n",
      "Trial 1 summary\n",
      "Hyperparameters:\n",
      "num_layers: 2\n",
      "units0: 160\n",
      "units1: 64\n",
      "learning rate: 0.01\n",
      "units2: 288\n",
      "Score: 1617279.0\n",
      "\n",
      "Trial 2 summary\n",
      "Hyperparameters:\n",
      "num_layers: 2\n",
      "units0: 448\n",
      "units1: 288\n",
      "learning rate: 0.01\n",
      "units2: 64\n",
      "Score: 1631909.75\n"
     ]
    }
   ],
   "source": [
    "tuner.results_summary()#to get summary of the result"
   ]
  },
  {
   "cell_type": "code",
   "execution_count": 9,
   "metadata": {},
   "outputs": [],
   "source": [
    "# tuner.get_best_models()[0]"
   ]
  }
 ],
 "metadata": {
  "kernelspec": {
   "display_name": "Python 3",
   "language": "python",
   "name": "python3"
  },
  "language_info": {
   "codemirror_mode": {
    "name": "ipython",
    "version": 3
   },
   "file_extension": ".py",
   "mimetype": "text/x-python",
   "name": "python",
   "nbconvert_exporter": "python",
   "pygments_lexer": "ipython3",
   "version": "3.7.6"
  }
 },
 "nbformat": 4,
 "nbformat_minor": 4
}
